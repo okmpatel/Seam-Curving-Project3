{
 "cells": [
  {
   "cell_type": "code",
   "execution_count": 1,
   "id": "f7560448",
   "metadata": {},
   "outputs": [],
   "source": [
    "# DO NOT modify this cell. \n",
    "filename = \"Buchtel.pgm\"\n",
    "verticalSeam2Remove = 10\n",
    "horizontalSeam2Remove = 8\n",
    "\n",
    "# Yes, you can create your own test cases and you should. Do it in a new cell."
   ]
  },
  {
   "cell_type": "code",
   "execution_count": 2,
   "id": "dad37c88",
   "metadata": {},
   "outputs": [
    {
     "name": "stdout",
     "output_type": "stream",
     "text": [
      "Buchtel_processed_10_0.pgm\n"
     ]
    }
   ],
   "source": [
    "# Part I : Vertical seam removal only\n",
    "# Save your processed file to img_processed_v_h.pgm\n",
    "filename1 = filename.split(\".\")[0]+\"_processed_\"+str(verticalSeam2Remove)+\"_0.pgm\"\n",
    "print(filename1)\n",
    "\n",
    "# your code, add cells as you need"
   ]
  },
  {
   "cell_type": "code",
   "execution_count": 3,
   "id": "f3da3f06",
   "metadata": {},
   "outputs": [
    {
     "name": "stdout",
     "output_type": "stream",
     "text": [
      "Buchtel_processed_10_8.pgm\n"
     ]
    }
   ],
   "source": [
    "# Part II : both vertical and horizontal seams removal \n",
    "# Save your processed file to img_processed_v_h.pgm\n",
    "filename2 = filename.split(\".\")[0]+\"_processed_\"+ \\\n",
    "            str(verticalSeam2Remove)+\"_\"+str(horizontalSeam2Remove)+\".pgm\"\n",
    "print(filename2)\n",
    "\n",
    "# your code, add cells as you need"
   ]
  },
  {
   "cell_type": "code",
   "execution_count": null,
   "id": "9c1c9ee8",
   "metadata": {},
   "outputs": [],
   "source": []
  },
  {
   "cell_type": "code",
   "execution_count": 4,
   "id": "4dae7220",
   "metadata": {},
   "outputs": [],
   "source": [
    "# This is for students taking Algorithms at graduate level (CPSC 535) \n",
    "filenameG = \"flower.ppm\"\n",
    "vSeam2Remove = 20\n",
    "hSeam2Remove = 25"
   ]
  },
  {
   "cell_type": "code",
   "execution_count": 5,
   "id": "03fb8420",
   "metadata": {},
   "outputs": [
    {
     "name": "stdout",
     "output_type": "stream",
     "text": [
      "flower_processed_20_25.ppm\n"
     ]
    }
   ],
   "source": [
    "# This is for students taking Algorithms at graduate level (CPSC 535) \n",
    "# Part III : color img in ppm\n",
    "filenameG2 = filenameG.split(\".\")[0]+\"_processed_\"+ \\\n",
    "            str(vSeam2Remove)+\"_\"+str(hSeam2Remove)+\".ppm\"\n",
    "print(filenameG2)\n",
    "# your code, add cells as you need"
   ]
  },
  {
   "cell_type": "code",
   "execution_count": null,
   "id": "7e1dff58",
   "metadata": {},
   "outputs": [],
   "source": []
  }
 ],
 "metadata": {
  "kernelspec": {
   "display_name": "Python 3 (ipykernel)",
   "language": "python",
   "name": "python3"
  },
  "language_info": {
   "codemirror_mode": {
    "name": "ipython",
    "version": 3
   },
   "file_extension": ".py",
   "mimetype": "text/x-python",
   "name": "python",
   "nbconvert_exporter": "python",
   "pygments_lexer": "ipython3",
   "version": "3.12.4"
  }
 },
 "nbformat": 4,
 "nbformat_minor": 5
}
